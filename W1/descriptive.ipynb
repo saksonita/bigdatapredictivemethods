{
 "cells": [
  {
   "cell_type": "markdown",
   "id": "01cc5141",
   "metadata": {},
   "source": [
    "# DESCRIPTIVE ANALYTICS: \"WHAT HAPPENED?\""
   ]
  },
  {
   "cell_type": "markdown",
   "id": "7e2e5283",
   "metadata": {},
   "source": [
    "## E-commerce Customer Analytics - Part 1 of 4\n",
    "\n",
    "OBJECTIVE: Understand historical patterns and trends in our e-commerce data\n",
    "- Sales performance over time\n",
    "- Customer behavior patterns  \n",
    "- Product performance analysis\n",
    "- Revenue trends and seasonality"
   ]
  },
  {
   "cell_type": "markdown",
   "id": "eeabf0de",
   "metadata": {},
   "source": [
    "### 1. Data loading  & initial exploration"
   ]
  },
  {
   "cell_type": "code",
   "execution_count": 3,
   "id": "d2c32b4f",
   "metadata": {},
   "outputs": [
    {
     "name": "stdout",
     "output_type": "stream",
     "text": [
      "🔍 DESCRIPTIVE ANALYTICS: What Happened?\n",
      "==================================================\n"
     ]
    }
   ],
   "source": [
    "import pandas as pd\n",
    "import numpy as np\n",
    "import matplotlib.pyplot as plt\n",
    "import seaborn as sns\n",
    "from datetime import datetime, timedelta\n",
    "import warnings\n",
    "warnings.filterwarnings('ignore')\n",
    "\n",
    "# Set styling\n",
    "plt.style.use('seaborn-v0_8')\n",
    "sns.set_palette(\"husl\")\n",
    "\n",
    "print(\"🔍 DESCRIPTIVE ANALYTICS: What Happened?\")\n",
    "print(\"=\"*50)"
   ]
  },
  {
   "cell_type": "code",
   "execution_count": 5,
   "id": "c64ebe62",
   "metadata": {},
   "outputs": [
    {
     "name": "stdout",
     "output_type": "stream",
     "text": [
      "\n",
      "📊 STEP 1: Loading E-commerce Data\n",
      "------------------------------\n",
      "✅ Loaded 5,000 customers\n",
      "✅ Loaded 1,000 products\n",
      "✅ Loaded 50,000 transactions\n",
      "✅ Loaded 20 marketing campaigns\n",
      "✅ Loaded 2,000 support tickets\n",
      "\n",
      "📅 Transaction Date Range: 2022-01-01 to 2024-12-30\n",
      "💰 Total Revenue: $2,277,263.58\n",
      "🛒 Average Order Value: $45.55\n"
     ]
    }
   ],
   "source": [
    "print(\"\\n📊 STEP 1: Loading E-commerce Data\")\n",
    "print(\"-\" * 30)\n",
    "\n",
    "# Load datasets\n",
    "customers = pd.read_csv('dataset/customers.csv')\n",
    "products = pd.read_csv('dataset/products.csv')\n",
    "transactions = pd.read_csv('dataset/transactions.csv')\n",
    "campaigns = pd.read_csv('dataset/marketing_campaigns.csv')\n",
    "tickets = pd.read_csv('dataset/support_tickets.csv')\n",
    "\n",
    "# Convert date columns\n",
    "transactions['transaction_date'] = pd.to_datetime(transactions['transaction_date'])\n",
    "customers['registration_date'] = pd.to_datetime(customers['registration_date'])\n",
    "\n",
    "print(f\"✅ Loaded {len(customers):,} customers\")\n",
    "print(f\"✅ Loaded {len(products):,} products\")\n",
    "print(f\"✅ Loaded {len(transactions):,} transactions\")\n",
    "print(f\"✅ Loaded {len(campaigns):,} marketing campaigns\")\n",
    "print(f\"✅ Loaded {len(tickets):,} support tickets\")\n",
    "\n",
    "# Basic data overview\n",
    "print(f\"\\n📅 Transaction Date Range: {transactions['transaction_date'].min().date()} to {transactions['transaction_date'].max().date()}\")\n",
    "print(f\"💰 Total Revenue: ${transactions['total_amount'].sum():,.2f}\")\n",
    "print(f\"🛒 Average Order Value: ${transactions['total_amount'].mean():.2f}\")"
   ]
  },
  {
   "cell_type": "markdown",
   "id": "528ba090",
   "metadata": {},
   "source": [
    "### 2. SALES PERFORMANCE ANALYSIS"
   ]
  },
  {
   "cell_type": "code",
   "execution_count": 6,
   "id": "64401919",
   "metadata": {},
   "outputs": [
    {
     "name": "stdout",
     "output_type": "stream",
     "text": [
      "\n",
      "\n",
      "📈 STEP 2: Sales Performance Analysis\n",
      "-----------------------------------\n",
      "📊 Monthly Sales Summary (Last 6 months):\n",
      "            Total Revenue  Total Orders  Unique Customers  Avg Order Value\n",
      "year_month                                                                \n",
      "2024-07          62317.78          1421              1212            43.85\n",
      "2024-08          67406.56          1447              1261            46.58\n",
      "2024-09          64634.70          1385              1208            46.67\n",
      "2024-10          62254.32          1449              1248            42.96\n",
      "2024-11          64275.24          1354              1190            47.47\n",
      "2024-12          63223.42          1353              1192            46.73\n",
      "\n",
      "💰 Revenue by Year:\n",
      "   2022: $760,491.67\n",
      "   2023: $767,265.27\n",
      "   2024: $749,506.64\n",
      "\n",
      "📈 Year-over-Year Growth:\n",
      "   2023: +0.9%\n",
      "   2024: -2.3%\n"
     ]
    }
   ],
   "source": [
    "print(\"\\n\\n📈 STEP 2: Sales Performance Analysis\")\n",
    "print(\"-\" * 35)\n",
    "\n",
    "# Monthly sales trend\n",
    "transactions['year_month'] = transactions['transaction_date'].dt.to_period('M')\n",
    "monthly_sales = transactions.groupby('year_month').agg({\n",
    "    'total_amount': 'sum',\n",
    "    'transaction_id': 'count',\n",
    "    'customer_id': 'nunique'\n",
    "}).round(2)\n",
    "\n",
    "monthly_sales.columns = ['Total Revenue', 'Total Orders', 'Unique Customers']\n",
    "monthly_sales['Avg Order Value'] = (monthly_sales['Total Revenue'] / monthly_sales['Total Orders']).round(2)\n",
    "\n",
    "print(\"📊 Monthly Sales Summary (Last 6 months):\")\n",
    "print(monthly_sales.tail(6))\n",
    "\n",
    "# Revenue by year\n",
    "yearly_revenue = transactions.groupby(transactions['transaction_date'].dt.year)['total_amount'].sum()\n",
    "print(f\"\\n💰 Revenue by Year:\")\n",
    "for year, revenue in yearly_revenue.items():\n",
    "    print(f\"   {year}: ${revenue:,.2f}\")\n",
    "\n",
    "# Growth rates\n",
    "revenue_growth = yearly_revenue.pct_change() * 100\n",
    "print(f\"\\n📈 Year-over-Year Growth:\")\n",
    "for year, growth in revenue_growth.dropna().items():\n",
    "    print(f\"   {year}: {growth:+.1f}%\")"
   ]
  },
  {
   "cell_type": "markdown",
   "id": "59c045d1",
   "metadata": {},
   "source": [
    "### 3. CUSTOMER BEHAVIOR ANALYSIS"
   ]
  },
  {
   "cell_type": "code",
   "execution_count": 7,
   "id": "4396912d",
   "metadata": {},
   "outputs": [
    {
     "name": "stdout",
     "output_type": "stream",
     "text": [
      "\n",
      "\n",
      "👥 STEP 3: Customer Behavior Analysis\n",
      "-----------------------------------\n",
      "🎯 Customer Segment Analysis:\n",
      "                  Customer Count  Avg Total Spent  Avg Transactions  \\\n",
      "customer_segment                                                      \n",
      "Budget                      1306           450.56             10.08   \n",
      "Premium                      763           457.40              9.99   \n",
      "Regular                     2931           457.12              9.97   \n",
      "\n",
      "                  Avg Order Value  Churn Rate  \n",
      "customer_segment                               \n",
      "Budget                      44.99        0.31  \n",
      "Premium                     45.66        0.29  \n",
      "Regular                     45.90        0.29  \n",
      "\n",
      "👶 Customer Age Group Analysis:\n",
      "           customer_id  total_spent  is_churned\n",
      "age_group                                      \n",
      "18-25             1125       456.91        0.27\n",
      "26-35             1514       450.14        0.32\n",
      "36-45             1470       456.94        0.30\n",
      "46-55              697       459.91        0.30\n",
      "55+                194       461.13        0.27\n",
      "\n",
      "🏆 Top 10 Customers by Spending:\n",
      "      customer_id first_name   last_name  total_spent  total_transactions\n",
      "4070         4071     Tamara  Hutchinson      1700.36                  12\n",
      "4081         4082     Tracey        Ross      1589.54                  11\n",
      "4458         4459       Eric      Molina      1572.22                  15\n",
      "2041         2042     Morgan   Armstrong      1554.22                  21\n",
      "1013         1014     Andrew     Serrano      1516.69                   9\n",
      "3947         3948   Jennifer    Robinson      1509.21                  18\n",
      "4501         4502     Andrew      Barron      1472.69                  15\n",
      "3401         3402   Benjamin    Martinez      1468.01                   7\n",
      "2950         2951      Grant     Skinner      1441.93                  14\n",
      "2186         2187     Martin        Chen      1417.49                  12\n"
     ]
    }
   ],
   "source": [
    "print(\"\\n\\n👥 STEP 3: Customer Behavior Analysis\")\n",
    "print(\"-\" * 35)\n",
    "\n",
    "# Customer segments analysis\n",
    "segment_analysis = customers.groupby('customer_segment').agg({\n",
    "    'customer_id': 'count',\n",
    "    'total_spent': 'mean',\n",
    "    'total_transactions': 'mean',\n",
    "    'avg_order_value': 'mean',\n",
    "    'is_churned': 'mean'\n",
    "}).round(2)\n",
    "\n",
    "segment_analysis.columns = ['Customer Count', 'Avg Total Spent', 'Avg Transactions', 'Avg Order Value', 'Churn Rate']\n",
    "print(\"🎯 Customer Segment Analysis:\")\n",
    "print(segment_analysis)\n",
    "\n",
    "# Age group analysis\n",
    "customers['age_group'] = pd.cut(customers['age'],\n",
    "                               bins=[0, 25, 35, 45, 55, 100],\n",
    "                               labels=['18-25', '26-35', '36-45', '46-55', '55+'])\n",
    "\n",
    "age_analysis = customers.groupby('age_group').agg({\n",
    "    'customer_id': 'count',\n",
    "    'total_spent': 'mean',\n",
    "    'is_churned': 'mean'\n",
    "}).round(2)\n",
    "\n",
    "print(f\"\\n👶 Customer Age Group Analysis:\")\n",
    "print(age_analysis)\n",
    "\n",
    "# Top spending customers\n",
    "top_customers = customers.nlargest(10, 'total_spent')[['customer_id', 'first_name', 'last_name', 'total_spent', 'total_transactions']]\n",
    "print(f\"\\n🏆 Top 10 Customers by Spending:\")\n",
    "print(top_customers)"
   ]
  },
  {
   "cell_type": "markdown",
   "id": "da2e0f33",
   "metadata": {},
   "source": [
    "### 4. PRODUCT PERFORMANCE ANALYSIS"
   ]
  },
  {
   "cell_type": "code",
   "execution_count": 8,
   "id": "32b62dd7",
   "metadata": {},
   "outputs": [
    {
     "name": "stdout",
     "output_type": "stream",
     "text": [
      "\n",
      "\n",
      "📦 STEP 4: Product Performance Analysis\n",
      "-----------------------------------\n",
      "💰 Top 10 Products by Revenue:\n",
      "                                          product_name       category  \\\n",
      "656                  Balanced methodical workforce Bar  Home & Garden   \n",
      "228                   Mandatory holistic adapter Agent         Beauty   \n",
      "154             Switchable non-volatile protocol There  Home & Garden   \n",
      "857        Virtual motivating process improvement Sure    Electronics   \n",
      "324                     Profound secondary access Need         Beauty   \n",
      "43            Polarized bi-directional core Conference       Clothing   \n",
      "512                 Adaptive intermediate solution Age          Books   \n",
      "382      Quality-focused bottom-line flexibility Bring         Beauty   \n",
      "26               Enhanced encompassing approach Nature           Toys   \n",
      "658  Synchronized 3rdgeneration collaboration Consider     Automotive   \n",
      "\n",
      "     Total Revenue  Total Quantity Sold  \n",
      "656       26171.31                   97  \n",
      "228       17532.64                  105  \n",
      "154       15847.16                   64  \n",
      "857       14203.00                  107  \n",
      "324       13340.52                   93  \n",
      "43        13200.45                  101  \n",
      "512       12522.73                   91  \n",
      "382       12146.55                   86  \n",
      "26        11674.39                   93  \n",
      "658       11597.49                   66  \n",
      "\n",
      "🏷️ Category Performance:\n",
      "               Total Revenue  Total Quantity Sold  Number of Orders\n",
      "category                                                           \n",
      "Clothing           332731.73                10765              6688\n",
      "Beauty             305879.39                10568              6547\n",
      "Home & Garden      300621.83                10438              6447\n",
      "Sports             296212.72                11404              6978\n",
      "Electronics        289319.95                10128              6157\n",
      "Automotive         272601.91                 9337              5808\n",
      "Toys               260181.59                 9962              6127\n",
      "Books              219714.46                 8500              5248\n"
     ]
    }
   ],
   "source": [
    "print(\"\\n\\n📦 STEP 4: Product Performance Analysis\")\n",
    "print(\"-\" * 35)\n",
    "\n",
    "# Product sales analysis\n",
    "product_sales = transactions.groupby('product_id').agg({\n",
    "    'quantity': 'sum',\n",
    "    'total_amount': 'sum',\n",
    "    'transaction_id': 'count'\n",
    "}).round(2)\n",
    "\n",
    "product_sales.columns = ['Total Quantity Sold', 'Total Revenue', 'Number of Orders']\n",
    "product_sales = product_sales.merge(products[['product_id', 'product_name', 'category', 'price']],\n",
    "                                   on='product_id', how='left')\n",
    "\n",
    "# Top products by revenue\n",
    "top_products_revenue = product_sales.nlargest(10, 'Total Revenue')\n",
    "print(\"💰 Top 10 Products by Revenue:\")\n",
    "print(top_products_revenue[['product_name', 'category', 'Total Revenue', 'Total Quantity Sold']])\n",
    "\n",
    "# Category performance\n",
    "category_performance = product_sales.groupby('category').agg({\n",
    "    'Total Revenue': 'sum',\n",
    "    'Total Quantity Sold': 'sum',\n",
    "    'Number of Orders': 'sum'\n",
    "}).round(2)\n",
    "\n",
    "category_performance = category_performance.sort_values('Total Revenue', ascending=False)\n",
    "print(f\"\\n🏷️ Category Performance:\")\n",
    "print(category_performance)\n"
   ]
  },
  {
   "cell_type": "markdown",
   "id": "08491c0c",
   "metadata": {},
   "source": [
    "### 5. SEASONAL TRENDS ANALYSIS"
   ]
  },
  {
   "cell_type": "code",
   "execution_count": 9,
   "id": "9c01ab85",
   "metadata": {},
   "outputs": [
    {
     "name": "stdout",
     "output_type": "stream",
     "text": [
      "\n",
      "\n",
      "🗓️ STEP 5: Seasonal Trends Analysis\n",
      "------------------------------\n",
      "📅 Monthly Seasonality Pattern:\n",
      "       Total Revenue  Avg Order Value  Order Count\n",
      "month                                             \n",
      "1          191258.79            46.63         4102\n",
      "2          177334.73            45.40         3906\n",
      "3          191082.02            44.36         4308\n",
      "4          193666.29            46.58         4158\n",
      "5          193188.23            45.21         4273\n",
      "6          186654.21            45.07         4141\n",
      "7          192916.83            45.48         4242\n",
      "8          193376.14            45.43         4257\n",
      "9          188815.05            46.05         4100\n",
      "10         189841.40            44.73         4244\n",
      "11         187481.20            46.23         4055\n",
      "12         191648.69            45.48         4214\n",
      "\n",
      "📆 Day of Week Analysis:\n",
      "             Total Revenue  Order Count  Avg Order Value\n",
      "day_of_week                                             \n",
      "Monday           322213.55         7164            44.98\n",
      "Tuesday          327329.32         7227            45.29\n",
      "Wednesday        314672.29         7073            44.49\n",
      "Thursday         328350.04         7092            46.30\n",
      "Friday           331554.30         7124            46.54\n",
      "Saturday         334100.35         7224            46.25\n",
      "Sunday           319043.73         7096            44.96\n"
     ]
    }
   ],
   "source": [
    "print(\"\\n\\n🗓️ STEP 5: Seasonal Trends Analysis\")\n",
    "print(\"-\" * 30)\n",
    "\n",
    "# Monthly seasonality\n",
    "transactions['month'] = transactions['transaction_date'].dt.month\n",
    "monthly_seasonality = transactions.groupby('month').agg({\n",
    "    'total_amount': ['sum', 'mean', 'count']\n",
    "}).round(2)\n",
    "\n",
    "monthly_seasonality.columns = ['Total Revenue', 'Avg Order Value', 'Order Count']\n",
    "print(\"📅 Monthly Seasonality Pattern:\")\n",
    "print(monthly_seasonality)\n",
    "\n",
    "# Day of week analysis\n",
    "transactions['day_of_week'] = transactions['transaction_date'].dt.day_name()\n",
    "dow_analysis = transactions.groupby('day_of_week')['total_amount'].agg(['sum', 'count', 'mean']).round(2)\n",
    "dow_analysis.columns = ['Total Revenue', 'Order Count', 'Avg Order Value']\n",
    "\n",
    "# Reorder by actual day sequence\n",
    "day_order = ['Monday', 'Tuesday', 'Wednesday', 'Thursday', 'Friday', 'Saturday', 'Sunday']\n",
    "dow_analysis = dow_analysis.reindex(day_order)\n",
    "print(f\"\\n📆 Day of Week Analysis:\")\n",
    "print(dow_analysis)"
   ]
  },
  {
   "cell_type": "markdown",
   "id": "02d9cb93",
   "metadata": {},
   "source": [
    "### 6. CUSTOMER LIFECYCLE ANALYSIS"
   ]
  },
  {
   "cell_type": "code",
   "execution_count": 10,
   "id": "815c30a5",
   "metadata": {},
   "outputs": [
    {
     "name": "stdout",
     "output_type": "stream",
     "text": [
      "\n",
      "\n",
      "🔄 STEP 6: Customer Lifecycle Analysis\n",
      "-----------------------------------\n",
      "📈 Customer Acquisition Trend (Last 6 months):\n",
      "reg_year_month\n",
      "2025-03    170\n",
      "2025-04    142\n",
      "2025-05    141\n",
      "2025-06    137\n",
      "2025-07    139\n",
      "2025-08     70\n",
      "Freq: M, dtype: int64\n",
      "\n",
      "⚠️ Churn Analysis:\n",
      "   Overall Churn Rate: 29.7%\n",
      "   Active Customers: 3,513\n",
      "   Churned Customers: 1,487\n",
      "\n",
      "📊 Days Since Last Purchase Distribution:\n",
      "count    5000.000000\n",
      "mean      339.819200\n",
      "std       108.883665\n",
      "min       231.000000\n",
      "25%       262.000000\n",
      "50%       307.000000\n",
      "75%       382.250000\n",
      "max      1128.000000\n",
      "Name: days_since_last_purchase, dtype: float64\n"
     ]
    }
   ],
   "source": [
    "print(\"\\n\\n🔄 STEP 6: Customer Lifecycle Analysis\")\n",
    "print(\"-\" * 35)\n",
    "\n",
    "# Customer acquisition by month\n",
    "customers['reg_year_month'] = pd.to_datetime(customers['registration_date']).dt.to_period('M')\n",
    "acquisition = customers.groupby('reg_year_month').size()\n",
    "print(\"📈 Customer Acquisition Trend (Last 6 months):\")\n",
    "print(acquisition.tail(6))\n",
    "\n",
    "# Churn analysis\n",
    "churn_rate = customers['is_churned'].mean() * 100\n",
    "active_customers = customers[customers['is_churned'] == 0]\n",
    "churned_customers = customers[customers['is_churned'] == 1]\n",
    "\n",
    "print(f\"\\n⚠️ Churn Analysis:\")\n",
    "print(f\"   Overall Churn Rate: {churn_rate:.1f}%\")\n",
    "print(f\"   Active Customers: {len(active_customers):,}\")\n",
    "print(f\"   Churned Customers: {len(churned_customers):,}\")\n",
    "\n",
    "# Days since last purchase distribution\n",
    "print(f\"\\n📊 Days Since Last Purchase Distribution:\")\n",
    "print(customers['days_since_last_purchase'].describe())"
   ]
  },
  {
   "cell_type": "markdown",
   "id": "763cf2d8",
   "metadata": {},
   "source": [
    "### 7. REVENUE CONCENTRATION ANALYSIS"
   ]
  },
  {
   "cell_type": "code",
   "execution_count": 11,
   "id": "ae20a0a6",
   "metadata": {},
   "outputs": [
    {
     "name": "stdout",
     "output_type": "stream",
     "text": [
      "\n",
      "\n",
      "💎 STEP 7: Revenue Concentration Analysis\n",
      "----------------------------------------\n",
      "📊 Pareto Analysis (80/20 Rule):\n",
      "   Top 63.0% of customers generate 80% of revenue\n",
      "   This is 3,148 customers out of 5,000 total\n"
     ]
    }
   ],
   "source": [
    "print(\"\\n\\n💎 STEP 7: Revenue Concentration Analysis\")\n",
    "print(\"-\" * 40)\n",
    "\n",
    "# Pareto analysis (80/20 rule)\n",
    "customers_sorted = customers.sort_values('total_spent', ascending=False).reset_index(drop=True)\n",
    "customers_sorted['cumulative_revenue'] = customers_sorted['total_spent'].cumsum()\n",
    "customers_sorted['cumulative_revenue_pct'] = (customers_sorted['cumulative_revenue'] / customers_sorted['total_spent'].sum()) * 100\n",
    "customers_sorted['customer_pct'] = ((customers_sorted.index + 1) / len(customers_sorted)) * 100\n",
    "\n",
    "# Find 80% revenue point\n",
    "pct_80_revenue = customers_sorted[customers_sorted['cumulative_revenue_pct'] <= 80].shape[0]\n",
    "pct_80_customers = (pct_80_revenue / len(customers_sorted)) * 100\n",
    "\n",
    "print(f\"📊 Pareto Analysis (80/20 Rule):\")\n",
    "print(f\"   Top {pct_80_customers:.1f}% of customers generate 80% of revenue\")\n",
    "print(f\"   This is {pct_80_revenue:,} customers out of {len(customers_sorted):,} total\")"
   ]
  },
  {
   "cell_type": "markdown",
   "id": "a9cddcf9",
   "metadata": {},
   "source": [
    "### 8. BUSINESS METRICS SUMMARY"
   ]
  },
  {
   "cell_type": "code",
   "execution_count": 12,
   "id": "4255bfed",
   "metadata": {},
   "outputs": [
    {
     "name": "stdout",
     "output_type": "stream",
     "text": [
      "\n",
      "\n",
      "📋 STEP 8: Key Business Metrics Summary\n",
      "----------------------------------------\n",
      "🎯 KEY BUSINESS METRICS\n",
      "=========================\n",
      "📊 Overall Performance:\n",
      "   Total Revenue: $2,277,263.58\n",
      "   Total Orders: 50,000\n",
      "   Total Customers: 5,000\n",
      "   Active Customers: 3,513\n",
      "   Average Order Value: $45.55\n",
      "   Average Customer Value: $455.45\n",
      "   Churn Rate: 29.7%\n",
      "\n",
      "📈 Last 30 Days:\n",
      "   Revenue: $66,217.01\n",
      "   Orders: 1,405\n",
      "   Active Customers: 1,227\n",
      "   Daily Avg Revenue: $2207.23\n"
     ]
    }
   ],
   "source": [
    "print(\"\\n\\n📋 STEP 8: Key Business Metrics Summary\")\n",
    "print(\"-\" * 40)\n",
    "\n",
    "# Calculate key metrics\n",
    "total_revenue = transactions['total_amount'].sum()\n",
    "total_orders = len(transactions)\n",
    "total_customers = len(customers)\n",
    "active_customers_count = len(customers[customers['is_churned'] == 0])\n",
    "avg_order_value = transactions['total_amount'].mean()\n",
    "avg_customer_value = customers['total_spent'].mean()\n",
    "\n",
    "# Recent period metrics (last 30 days)\n",
    "recent_date = transactions['transaction_date'].max()\n",
    "last_30_days = recent_date - timedelta(days=30)\n",
    "recent_transactions = transactions[transactions['transaction_date'] >= last_30_days]\n",
    "\n",
    "recent_revenue = recent_transactions['total_amount'].sum()\n",
    "recent_orders = len(recent_transactions)\n",
    "recent_customers = recent_transactions['customer_id'].nunique()\n",
    "\n",
    "print(f\"🎯 KEY BUSINESS METRICS\")\n",
    "print(f\"{'='*25}\")\n",
    "print(f\"📊 Overall Performance:\")\n",
    "print(f\"   Total Revenue: ${total_revenue:,.2f}\")\n",
    "print(f\"   Total Orders: {total_orders:,}\")\n",
    "print(f\"   Total Customers: {total_customers:,}\")\n",
    "print(f\"   Active Customers: {active_customers_count:,}\")\n",
    "print(f\"   Average Order Value: ${avg_order_value:.2f}\")\n",
    "print(f\"   Average Customer Value: ${avg_customer_value:.2f}\")\n",
    "print(f\"   Churn Rate: {churn_rate:.1f}%\")\n",
    "\n",
    "print(f\"\\n📈 Last 30 Days:\")\n",
    "print(f\"   Revenue: ${recent_revenue:,.2f}\")\n",
    "print(f\"   Orders: {recent_orders:,}\")\n",
    "print(f\"   Active Customers: {recent_customers:,}\")\n",
    "print(f\"   Daily Avg Revenue: ${recent_revenue/30:.2f}\")"
   ]
  },
  {
   "cell_type": "markdown",
   "id": "c91c8d4d",
   "metadata": {},
   "source": [
    "### 9. INSIGHTS & RECOMMENDATIONS FOR NEXT STEPS"
   ]
  },
  {
   "cell_type": "code",
   "execution_count": 13,
   "id": "b8c8cd80",
   "metadata": {},
   "outputs": [
    {
     "name": "stdout",
     "output_type": "stream",
     "text": [
      "\n",
      "\n",
      "💡 KEY INSIGHTS FROM DESCRIPTIVE ANALYSIS\n",
      "==================================================\n",
      "✅ WHAT WE DISCOVERED:\n",
      "   1. Revenue shows clear seasonal patterns\n",
      "   2. Customer segments have different behaviors\n",
      "   3. Product categories perform differently\n",
      "   4. Churn rate indicates retention opportunities\n",
      "   5. Revenue concentration follows Pareto principle\n",
      "\n",
      "🔍 QUESTIONS FOR NEXT ANALYSIS (Diagnostic):\n",
      "   ❓ WHY did sales drop in certain months?\n",
      "   ❓ WHY do customers churn?\n",
      "   ❓ WHY do some products underperform?\n",
      "   ❓ WHY do customer segments behave differently?\n",
      "\n",
      "➡️  NEXT: Diagnostic Analytics - Understanding the 'WHY'\n",
      "==================================================\n",
      "\n",
      "✅ Descriptive analysis complete! Summary saved for next analysis.\n"
     ]
    }
   ],
   "source": [
    "print(f\"\\n\\n💡 KEY INSIGHTS FROM DESCRIPTIVE ANALYSIS\")\n",
    "print(\"=\"*50)\n",
    "\n",
    "print(\"✅ WHAT WE DISCOVERED:\")\n",
    "print(\"   1. Revenue shows clear seasonal patterns\")\n",
    "print(\"   2. Customer segments have different behaviors\")\n",
    "print(\"   3. Product categories perform differently\")\n",
    "print(\"   4. Churn rate indicates retention opportunities\")\n",
    "print(\"   5. Revenue concentration follows Pareto principle\")\n",
    "\n",
    "print(f\"\\n🔍 QUESTIONS FOR NEXT ANALYSIS (Diagnostic):\")\n",
    "print(\"   ❓ WHY did sales drop in certain months?\")\n",
    "print(\"   ❓ WHY do customers churn?\")\n",
    "print(\"   ❓ WHY do some products underperform?\")\n",
    "print(\"   ❓ WHY do customer segments behave differently?\")\n",
    "\n",
    "print(f\"\\n➡️  NEXT: Diagnostic Analytics - Understanding the 'WHY'\")\n",
    "print(\"=\"*50)\n",
    "\n",
    "# Optional: Save summary metrics for next notebooks\n",
    "summary_metrics = {\n",
    "    'total_revenue': total_revenue,\n",
    "    'total_customers': total_customers,\n",
    "    'churn_rate': churn_rate,\n",
    "    'avg_order_value': avg_order_value,\n",
    "    'analysis_date': datetime.now().date()\n",
    "}\n",
    "\n",
    "# Save for next notebooks\n",
    "import json\n",
    "with open('descriptive_summary.json', 'w') as f:\n",
    "    json.dump(summary_metrics, f, default=str)\n",
    "\n",
    "print(\"\\n✅ Descriptive analysis complete! Summary saved for next analysis.\")"
   ]
  }
 ],
 "metadata": {
  "kernelspec": {
   "display_name": "Python 3",
   "language": "python",
   "name": "python3"
  },
  "language_info": {
   "codemirror_mode": {
    "name": "ipython",
    "version": 3
   },
   "file_extension": ".py",
   "mimetype": "text/x-python",
   "name": "python",
   "nbconvert_exporter": "python",
   "pygments_lexer": "ipython3",
   "version": "3.13.4"
  }
 },
 "nbformat": 4,
 "nbformat_minor": 5
}
